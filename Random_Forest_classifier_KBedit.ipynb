{
 "cells": [
  {
   "cell_type": "code",
   "execution_count": 1,
   "id": "b116a1f4",
   "metadata": {},
   "outputs": [],
   "source": [
    "import pandas as pd\n",
    "import numpy as np\n",
    "import csv\n",
    "\n",
    "from time import perf_counter\n",
    "from utils import get_genome_examples, get_vocab\n",
    "%load_ext autoreload\n",
    "%autoreload 2"
   ]
  },
  {
   "cell_type": "code",
   "execution_count": 2,
   "id": "85c672c2",
   "metadata": {
    "scrolled": true
   },
   "outputs": [
    {
     "name": "stdout",
     "output_type": "stream",
     "text": [
      "Created set with 1200000 samples\n"
     ]
    }
   ],
   "source": [
    "df = get_genome_examples(directory_name = 'trainingdata', num_samples = 200_000, delay_start = 0)\n",
    "dataset = df"
   ]
  },
  {
   "cell_type": "code",
   "execution_count": 3,
   "id": "cedf0f3a",
   "metadata": {},
   "outputs": [
    {
     "name": "stdout",
     "output_type": "stream",
     "text": [
      "                 genome\n",
      "label                  \n",
      "Coronaviridae    200000\n",
      "Human            200000\n",
      "Influenza        200000\n",
      "Metapneumovirus  200000\n",
      "Rhinovirus       200000\n",
      "Sars_Cov-2       200000\n"
     ]
    }
   ],
   "source": [
    "# there is a class imbalance (there are more than 3m human examples,\n",
    "# so max is 1.3m which is the max for Rhinovirus)\n",
    "print(dataset.groupby('label').count())\n",
    "dataset = dataset.sample(frac=1)"
   ]
  },
  {
   "cell_type": "code",
   "execution_count": 4,
   "id": "48283d33",
   "metadata": {},
   "outputs": [
    {
     "name": "stdout",
     "output_type": "stream",
     "text": [
      "Counter Vectorizer took: 104.4[s]\n"
     ]
    }
   ],
   "source": [
    "from sklearn.feature_extraction.text import CountVectorizer\n",
    "\n",
    "def count_vectorizer(dataset):\n",
    "           \n",
    "    # combined the kmer and count vectorizer into 1 function\n",
    "    cv = CountVectorizer(ngram_range=(5, 5), vocabulary=get_vocab(5),\n",
    "                         tokenizer=lambda x: list(x), lowercase=False)  \n",
    "    \n",
    "    tic = perf_counter()\n",
    "    vectorized_array = cv.fit_transform(dataset)\n",
    "    print(f\"Counter Vectorizer took: {perf_counter() - tic:4.1f}[s]\")\n",
    "    \n",
    "    return vectorized_array, cv\n",
    "\n",
    "# created a function so you can use it later\n",
    "vectorized_array, cv = count_vectorizer(dataset['genome'])"
   ]
  },
  {
   "cell_type": "code",
   "execution_count": 5,
   "id": "805ced30",
   "metadata": {},
   "outputs": [],
   "source": [
    "#from sklearn.decomposition import PCA\n",
    "#pca = PCA(n_components=300)\n",
    "#vectorized_array_new = pca.fit_transform(vectorized_array.toarray())"
   ]
  },
  {
   "cell_type": "code",
   "execution_count": 6,
   "id": "87cbd5a0",
   "metadata": {},
   "outputs": [],
   "source": [
    "#sum(pca.explained_variance_ratio_ * 100 )"
   ]
  },
  {
   "cell_type": "code",
   "execution_count": 7,
   "id": "715d2b2c",
   "metadata": {},
   "outputs": [],
   "source": [
    "#from sklearn.decomposition import TruncatedSVD\n",
    "#svd = TruncatedSVD(n_components=400, n_iter=7, random_state=42)\n",
    "#tic = perf_counter()\n",
    "#vectorized_array_new = svd.fit_transform(vectorized_array.toarray())\n",
    "#print(f\"svd took: {perf_counter() - tic:4.1f}[s]\")"
   ]
  },
  {
   "cell_type": "code",
   "execution_count": 8,
   "id": "e9fc2be6",
   "metadata": {},
   "outputs": [],
   "source": [
    "#sum(svd.explained_variance_ratio_ * 100)"
   ]
  },
  {
   "cell_type": "code",
   "execution_count": 9,
   "id": "3d93af53",
   "metadata": {},
   "outputs": [],
   "source": [
    "from sklearn.preprocessing import LabelEncoder, MinMaxScaler, MaxAbsScaler\n",
    "\n",
    "# scale the features\n",
    "scaler = MaxAbsScaler()  # same as MinMax but works for sparse datasets\n",
    "X_features = scaler.fit_transform(vectorized_array)\n",
    "\n",
    "# encode the labels\n",
    "labelencoder = LabelEncoder()\n",
    "labels = labelencoder.fit_transform(dataset[\"label\"])"
   ]
  },
  {
   "cell_type": "code",
   "execution_count": 10,
   "id": "8aaba516",
   "metadata": {},
   "outputs": [
    {
     "data": {
      "text/plain": [
       "5"
      ]
     },
     "execution_count": 10,
     "metadata": {},
     "output_type": "execute_result"
    }
   ],
   "source": [
    "from sklearn.model_selection import KFold\n",
    "kf = KFold(n_splits=5)\n",
    "kf.get_n_splits(X_features)"
   ]
  },
  {
   "cell_type": "code",
   "execution_count": 11,
   "id": "6fab422f",
   "metadata": {},
   "outputs": [
    {
     "data": {
      "text/plain": [
       "KFold(n_splits=5, random_state=None, shuffle=False)"
      ]
     },
     "execution_count": 11,
     "metadata": {},
     "output_type": "execute_result"
    }
   ],
   "source": [
    "KFold(n_splits=5, random_state=None, shuffle=False)"
   ]
  },
  {
   "cell_type": "code",
   "execution_count": 12,
   "id": "118a8c23",
   "metadata": {},
   "outputs": [],
   "source": [
    "#from sklearn.ensemble import RandomForestClassifier\n",
    "#from sklearn.metrics import confusion_matrix, classification_report\n",
    "#for train_index, test_index in kf.split(X_features):\n",
    "    #print(\"TRAIN:\", train_index, \"TEST:\", test_index)\n",
    "#    X_train, X_test = X_features[train_index], X_features[test_index]\n",
    "#    y_train, y_test = labels[train_index], labels[test_index]\n",
    "#    params=dict(n_jobs=-1, class_weight=\"balanced\", n_estimators=50, verbose=1)\n",
    "#    classifier = RandomForestClassifier(**params)\n",
    "#    tic = perf_counter()\n",
    "#    classifier.fit(X_train, y_train)\n",
    "#    print(f\"Random Forest trained took: {perf_counter() - tic:.4f}[s]\")\n",
    "#    tic = perf_counter()\n",
    "#    y_pred = classifier.predict(X_test)\n",
    "#    print(f\"Random Forest test took: {perf_counter() - tic:.4f}[s]\")\n",
    "#    print(classification_report(y_test, y_pred))"
   ]
  },
  {
   "cell_type": "code",
   "execution_count": 13,
   "id": "a9694b7d",
   "metadata": {},
   "outputs": [],
   "source": [
    "from sklearn.model_selection import train_test_split\n",
    "\n",
    "# (20% train, 80% test); results showed you only needed 100-200k to train, so made test 80%\n",
    "#X_train, X_test, y_train, y_test = train_test_split(X_features, labels, \n",
    " #                                                   test_size=0.8, random_state=8)\n",
    "\n",
    "X_train, X_test, y_train, y_test = train_test_split(X_features, labels,\n",
    "    test_size=0.84, random_state = 8)\n",
    "\n",
    "#X_train, X_val, y_train, y_val = train_test_split(X_train, y_train, \n",
    "   # test_size=0.8, random_state= 8) \n"
   ]
  },
  {
   "cell_type": "code",
   "execution_count": 14,
   "id": "231976c8",
   "metadata": {},
   "outputs": [
    {
     "name": "stdout",
     "output_type": "stream",
     "text": [
      "(192000, 1024)\n",
      "(1008000, 1024)\n"
     ]
    }
   ],
   "source": [
    "print(X_train.shape)\n",
    "print(X_test.shape)\n",
    "#print(X_val.shape)"
   ]
  },
  {
   "cell_type": "code",
   "execution_count": 15,
   "id": "cb68954e",
   "metadata": {},
   "outputs": [
    {
     "name": "stderr",
     "output_type": "stream",
     "text": [
      "[Parallel(n_jobs=-1)]: Using backend ThreadingBackend with 8 concurrent workers.\n",
      "[Parallel(n_jobs=-1)]: Done  34 tasks      | elapsed:  2.4min\n"
     ]
    },
    {
     "name": "stdout",
     "output_type": "stream",
     "text": [
      "Random Forest took: 182.1152[s]\n"
     ]
    },
    {
     "name": "stderr",
     "output_type": "stream",
     "text": [
      "[Parallel(n_jobs=-1)]: Done  50 out of  50 | elapsed:  3.0min finished\n"
     ]
    }
   ],
   "source": [
    "from sklearn.ensemble import RandomForestClassifier\n",
    "\n",
    "params=dict(n_jobs=-1, class_weight=\"balanced\", n_estimators=50, verbose=1)\n",
    "\n",
    "classifier = RandomForestClassifier(**params)\n",
    "\n",
    "tic = perf_counter()\n",
    "classifier.fit(X_train, y_train)\n",
    "print(f\"Random Forest took: {perf_counter() - tic:.4f}[s]\")"
   ]
  },
  {
   "cell_type": "code",
   "execution_count": 16,
   "id": "3cf25417-dbac-46c9-99bb-2669c42f2055",
   "metadata": {},
   "outputs": [],
   "source": [
    "#from sklearn.neural_network import MLPClassifier\n",
    "#params = dict(learning_rate_init=5e-3, hidden_layer_sizes=[64, 32],\n",
    "#              verbose=True, early_stopping=True,  n_iter_no_change=5) #validation_fraction=0.2\n",
    "#classifier =  MLPClassifier(**params)\n",
    "\n",
    "#tic = perf_counter()\n",
    "#classifier.fit(X_train, y_train)\n",
    "#print(f\"MLP took: {perf_counter() - tic:.4f}[s]\")"
   ]
  },
  {
   "cell_type": "code",
   "execution_count": 17,
   "id": "7ffb51ce",
   "metadata": {},
   "outputs": [],
   "source": [
    "#from catboost import CatBoostClassifier\n",
    "#classifier = CatBoostClassifier(learning_rate=5e-3,max_depth=5)\n",
    "#tic = perf_counter()\n",
    "#classifier.fit(X_train, y_train)\n",
    "#print(f\"CatBoost took: {perf_counter() - tic:.4f}[s]\")"
   ]
  },
  {
   "cell_type": "code",
   "execution_count": 18,
   "id": "75238adf",
   "metadata": {},
   "outputs": [],
   "source": [
    "#from sklearn.neighbors import KNeighborsClassifier\n",
    "#classifier = KNeighborsClassifier(weights=\"uniform\",n_jobs=-1)\n",
    "#tic = perf_counter()\n",
    "#classifier.fit(X_train, y_train)\n",
    "#print(f\"KNeighborsClassifier took: {perf_counter() - tic:.4f}[s]\")"
   ]
  },
  {
   "cell_type": "code",
   "execution_count": 19,
   "id": "8363ba95",
   "metadata": {},
   "outputs": [],
   "source": [
    "#from sklearn.ensemble import ExtraTreesClassifier\n",
    "#classifier = ExtraTreesClassifier(class_weight=\"balanced\",n_estimators=50, verbose=1)\n",
    "#tic = perf_counter()\n",
    "#classifier.fit(X_train, y_train)\n",
    "#print(f\"ExtraTreesClassifier took: {perf_counter() - tic:.4f}[s]\")"
   ]
  },
  {
   "cell_type": "code",
   "execution_count": 20,
   "id": "1a4dc973",
   "metadata": {},
   "outputs": [
    {
     "name": "stderr",
     "output_type": "stream",
     "text": [
      "[Parallel(n_jobs=8)]: Using backend ThreadingBackend with 8 concurrent workers.\n",
      "[Parallel(n_jobs=8)]: Done  34 tasks      | elapsed:    4.2s\n"
     ]
    },
    {
     "name": "stdout",
     "output_type": "stream",
     "text": [
      "Random Forest took: 8.4476[s]\n"
     ]
    },
    {
     "name": "stderr",
     "output_type": "stream",
     "text": [
      "[Parallel(n_jobs=8)]: Done  50 out of  50 | elapsed:    5.4s finished\n"
     ]
    }
   ],
   "source": [
    "tic = perf_counter()\n",
    "y_pred = classifier.predict(X_test)\n",
    "print(f\"Random Forest took: {perf_counter() - tic:.4f}[s]\")"
   ]
  },
  {
   "cell_type": "code",
   "execution_count": 21,
   "id": "1144984a",
   "metadata": {},
   "outputs": [],
   "source": [
    "import pickle\n",
    "s = pickle.dumps(classifier)\n",
    "clf2 = pickle.loads(s)\n"
   ]
  },
  {
   "cell_type": "code",
   "execution_count": 22,
   "id": "36bc68df",
   "metadata": {},
   "outputs": [
    {
     "name": "stdout",
     "output_type": "stream",
     "text": [
      "              precision    recall  f1-score   support\n",
      "\n",
      "           0       0.99      1.00      0.99    167974\n",
      "           1       0.99      0.98      0.99    168057\n",
      "           2       1.00      1.00      1.00    167757\n",
      "           3       1.00      1.00      1.00    168282\n",
      "           4       0.99      1.00      0.99    167927\n",
      "           5       1.00      1.00      1.00    168003\n",
      "\n",
      "    accuracy                           1.00   1008000\n",
      "   macro avg       1.00      1.00      1.00   1008000\n",
      "weighted avg       1.00      1.00      1.00   1008000\n",
      "\n"
     ]
    }
   ],
   "source": [
    "from sklearn.metrics import confusion_matrix, classification_report # (size=3,(3,3))\n",
    "print(classification_report(y_test, y_pred))"
   ]
  },
  {
   "cell_type": "code",
   "execution_count": 23,
   "id": "bcf5b27a",
   "metadata": {},
   "outputs": [
    {
     "data": {
      "text/plain": [
       "array([[167254,    657,      0,      0,     63,      0],\n",
       "       [  1205, 165332,      0,      0,   1520,      0],\n",
       "       [    19,    516, 167207,      0,     15,      0],\n",
       "       [     0,      0,      0, 168282,      0,      0],\n",
       "       [     7,    192,      0,      0, 167728,      0],\n",
       "       [     0,      0,      0,      0,      0, 168003]])"
      ]
     },
     "execution_count": 23,
     "metadata": {},
     "output_type": "execute_result"
    }
   ],
   "source": [
    "from sklearn.metrics import confusion_matrix\n",
    "\n",
    "confusion_matrix(y_test, y_pred)"
   ]
  },
  {
   "cell_type": "code",
   "execution_count": 24,
   "id": "27d63c74",
   "metadata": {},
   "outputs": [
    {
     "name": "stderr",
     "output_type": "stream",
     "text": [
      "[Parallel(n_jobs=8)]: Using backend ThreadingBackend with 8 concurrent workers.\n",
      "[Parallel(n_jobs=8)]: Done  34 tasks      | elapsed:    3.9s\n",
      "[Parallel(n_jobs=8)]: Done  50 out of  50 | elapsed:    5.2s finished\n"
     ]
    },
    {
     "data": {
      "text/plain": [
       "<Figure size 720x720 with 0 Axes>"
      ]
     },
     "metadata": {},
     "output_type": "display_data"
    },
    {
     "data": {
      "image/png": "[encoded data removed]",
      "text/plain": [
       "<Figure size 432x288 with 2 Axes>"
      ]
     },
     "metadata": {
      "needs_background": "light"
     },
     "output_type": "display_data"
    },
    {
     "name": "stderr",
     "output_type": "stream",
     "text": [
      "<ipython-input-24-e892a28143d7>:6: MatplotlibDeprecationWarning: savefig() got unexpected keyword argument \"cmap\" which is no longer supported as of 3.3 and will become an error two minor releases later\n",
      "  plt.savefig(\"figure.png\", dpi=150, bbox_inches='tight',cmap=\"GnBu\")\n"
     ]
    },
    {
     "data": {
      "text/plain": [
       "<Figure size 432x288 with 0 Axes>"
      ]
     },
     "metadata": {},
     "output_type": "display_data"
    }
   ],
   "source": [
    "import matplotlib.pyplot as plt\n",
    "from sklearn.metrics import plot_confusion_matrix\n",
    "plt.figure(figsize=(10, 10))\n",
    "plot_confusion_matrix(classifier, X_test, y_test)  \n",
    "plt.show()\n",
    "plt.savefig(\"figure.png\", dpi=150, bbox_inches='tight',cmap=\"GnBu\")"
   ]
  },
  {
   "cell_type": "code",
   "execution_count": 25,
   "id": "d9213572",
   "metadata": {},
   "outputs": [],
   "source": [
    "#y_pred_val = classifier.predict(X_val)"
   ]
  },
  {
   "cell_type": "code",
   "execution_count": 26,
   "id": "2e239aba",
   "metadata": {},
   "outputs": [],
   "source": [
    "#from sklearn.metrics import confusion_matrix\n",
    "#confusion_matrix(y_val, y_pred_val)"
   ]
  },
  {
   "cell_type": "code",
   "execution_count": 27,
   "id": "d4c51271",
   "metadata": {},
   "outputs": [],
   "source": [
    "#from sklearn.metrics import confusion_matrix,classification_report # (size=3,(3,3))\n",
    "#print(classification_report(y_val, y_pred_val))"
   ]
  }
 ],
 "metadata": {
  "kernelspec": {
   "display_name": "Python 3",
   "language": "python",
   "name": "python3"
  },
  "language_info": {
   "codemirror_mode": {
    "name": "ipython",
    "version": 3
   },
   "file_extension": ".py",
   "mimetype": "text/x-python",
   "name": "python",
   "nbconvert_exporter": "python",
   "pygments_lexer": "ipython3",
   "version": "3.8.8"
  }
 },
 "nbformat": 4,
 "nbformat_minor": 5
}
